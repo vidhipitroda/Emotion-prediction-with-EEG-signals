{
 "cells": [
  {
   "cell_type": "code",
   "execution_count": null,
   "metadata": {
    "colab": {
     "base_uri": "https://localhost:8080/",
     "height": 49
    },
    "colab_type": "code",
    "executionInfo": {
     "elapsed": 6234,
     "status": "ok",
     "timestamp": 1594958681299,
     "user": {
      "displayName": "Prerak Patel",
      "photoUrl": "https://lh3.googleusercontent.com/a-/AOh14Gj0OT5Bmun4hsGe0jQNE1Ehbrdm_9JvsVTt9xBReA=s64",
      "userId": "01463730161288316532"
     },
     "user_tz": 240
    },
    "id": "EFjqzRmGm4UJ",
    "outputId": "e4390bba-7aa0-4488-815f-1af06e976ec5"
   },
   "outputs": [
    {
     "name": "stdout",
     "output_type": "stream",
     "text": [
      "TensorFlow 1.x selected.\n"
     ]
    },
    {
     "name": "stderr",
     "output_type": "stream",
     "text": [
      "Using TensorFlow backend.\n"
     ]
    }
   ],
   "source": [
    "%tensorflow_version 1.x\n",
    "import keras\n",
    "import pandas as pd\n",
    "import numpy as np\n",
    "import pickle\n",
    "import time\n",
    "from keras import optimizers\n",
    "from keras.callbacks import EarlyStopping, ModelCheckpoint\n",
    "from keras.models import Sequential\n",
    "from keras.layers import Dense, Dropout, UpSampling1D, RepeatVector,TimeDistributed\n",
    "from keras.layers import Embedding\n",
    "from keras.layers import LSTM\n",
    "from keras.models import Model\n",
    "from keras.layers import Input, GaussianNoise\n",
    "from keras.utils import plot_model\n",
    "from keras.layers.merge import concatenate\n",
    "from numpy.random import seed\n",
    "from sklearn import preprocessing\n",
    "from sklearn.preprocessing import minmax_scale\n",
    "from sklearn.model_selection import train_test_split\n",
    "from keras.layers import Input, Dense, LeakyReLU\n",
    "from keras.models import Model\n",
    "from keras.layers import Dense, Conv1D, Input, MaxPooling1D, Flatten, Dropout, LSTM\n",
    "from sklearn.model_selection import train_test_split\n",
    "import matplotlib.pyplot as plt"
   ]
  },
  {
   "cell_type": "code",
   "execution_count": null,
   "metadata": {
    "colab": {
     "base_uri": "https://localhost:8080/",
     "height": 118
    },
    "colab_type": "code",
    "executionInfo": {
     "elapsed": 27532,
     "status": "ok",
     "timestamp": 1594958709770,
     "user": {
      "displayName": "Prerak Patel",
      "photoUrl": "https://lh3.googleusercontent.com/a-/AOh14Gj0OT5Bmun4hsGe0jQNE1Ehbrdm_9JvsVTt9xBReA=s64",
      "userId": "01463730161288316532"
     },
     "user_tz": 240
    },
    "id": "zZsdeCxYF8k5",
    "outputId": "abfbcd16-62e1-4cc8-f4b0-bfabf3ee1f5b"
   },
   "outputs": [
    {
     "name": "stdout",
     "output_type": "stream",
     "text": [
      "Go to this URL in a browser: https://accounts.google.com/o/oauth2/auth?client_id=947318989803-6bn6qk8qdgf4n4g3pfee6491hc0brc4i.apps.googleusercontent.com&redirect_uri=urn%3aietf%3awg%3aoauth%3a2.0%3aoob&response_type=code&scope=email%20https%3a%2f%2fwww.googleapis.com%2fauth%2fdocs.test%20https%3a%2f%2fwww.googleapis.com%2fauth%2fdrive%20https%3a%2f%2fwww.googleapis.com%2fauth%2fdrive.photos.readonly%20https%3a%2f%2fwww.googleapis.com%2fauth%2fpeopleapi.readonly\n",
      "\n",
      "Enter your authorization code:\n",
      "··········\n",
      "Mounted at /content/drive\n"
     ]
    }
   ],
   "source": [
    "from google.colab import drive\n",
    "drive.mount('/content/drive')"
   ]
  },
  {
   "cell_type": "code",
   "execution_count": null,
   "metadata": {
    "colab": {},
    "colab_type": "code",
    "id": "MarstitEAUDS"
   },
   "outputs": [],
   "source": [
    "class TimeHistory(keras.callbacks.Callback):\n",
    "    def on_train_begin(self, logs={}):\n",
    "        self.times = []\n",
    "\n",
    "    def on_epoch_begin(self, batch, logs={}):\n",
    "        self.epoch_time_start = time.time()\n",
    "\n",
    "    def on_epoch_end(self, batch, logs={}):\n",
    "        self.times.append(time.time() - self.epoch_time_start)"
   ]
  },
  {
   "cell_type": "code",
   "execution_count": null,
   "metadata": {
    "colab": {},
    "colab_type": "code",
    "id": "oacviC3Bm4Ui"
   },
   "outputs": [],
   "source": [
    "#loading dataset and separating training and testing\n",
    "with open('/content/drive/My Drive/Colab Notebooks/dataset/train', 'rb') as fo:\n",
    "        dict = pickle.load(fo, encoding='bytes')\n",
    "        data_train = dict['data']\n",
    "        label_train = dict['label']\n",
    "with open('/content/drive/My Drive/Colab Notebooks/dataset/test', 'rb') as fo:\n",
    "        dict = pickle.load(fo, encoding='bytes')\n",
    "        data_test = dict['data']\n",
    "        label_test = dict['label']\n"
   ]
  },
  {
   "cell_type": "code",
   "execution_count": null,
   "metadata": {
    "colab": {},
    "colab_type": "code",
    "id": "STs22c2_AUDo"
   },
   "outputs": [],
   "source": [
    "#Normalizing the training data\n",
    "\n",
    "min_max_scaler = preprocessing.MinMaxScaler()\n",
    "normalize = min_max_scaler.fit_transform(data_train)\n",
    "\n"
   ]
  },
  {
   "cell_type": "code",
   "execution_count": null,
   "metadata": {
    "colab": {},
    "colab_type": "code",
    "id": "1APZiy8KAUDw"
   },
   "outputs": [],
   "source": [
    "#Normalizing testing data\n",
    "\n",
    "min_max_scaler = preprocessing.MinMaxScaler()\n",
    "\n",
    "normalize_test = min_max_scaler.fit_transform(data_test)\n",
    "x_test = normalize_test.reshape(normalize_test.shape[0],normalize_test.shape[1],1)"
   ]
  },
  {
   "cell_type": "code",
   "execution_count": null,
   "metadata": {
    "colab": {},
    "colab_type": "code",
    "id": "RbprUZskAUD5"
   },
   "outputs": [],
   "source": [
    "#shape for passing training data to autoencoder\n",
    "train_X = normalize.reshape(normalize.shape[0],normalize.shape[1])"
   ]
  },
  {
   "cell_type": "code",
   "execution_count": null,
   "metadata": {
    "colab": {},
    "colab_type": "code",
    "id": "j4rr-Lnim4Uw"
   },
   "outputs": [],
   "source": [
    "#performing one hot encoding on testing and training labels\n",
    "\n",
    "y_train = keras.utils.to_categorical(label_train,3)\n",
    "y_test = keras.utils.to_categorical(label_test,3)\n",
    "\n"
   ]
  },
  {
   "cell_type": "code",
   "execution_count": null,
   "metadata": {
    "colab": {
     "base_uri": "https://localhost:8080/",
     "height": 85
    },
    "colab_type": "code",
    "executionInfo": {
     "elapsed": 748,
     "status": "ok",
     "timestamp": 1594958772682,
     "user": {
      "displayName": "Prerak Patel",
      "photoUrl": "https://lh3.googleusercontent.com/a-/AOh14Gj0OT5Bmun4hsGe0jQNE1Ehbrdm_9JvsVTt9xBReA=s64",
      "userId": "01463730161288316532"
     },
     "user_tz": 240
    },
    "id": "aCE2iIwjAUEA",
    "outputId": "33ce550e-af9e-4e19-cd5e-2409dd17df24"
   },
   "outputs": [
    {
     "name": "stdout",
     "output_type": "stream",
     "text": [
      "WARNING:tensorflow:From /tensorflow-1.15.2/python3.6/tensorflow_core/python/ops/resource_variable_ops.py:1630: calling BaseResourceVariable.__init__ (from tensorflow.python.ops.resource_variable_ops) with constraint is deprecated and will be removed in a future version.\n",
      "Instructions for updating:\n",
      "If using Keras pass *_constraint arguments to layers.\n"
     ]
    }
   ],
   "source": [
    "#dense autoencoder\n",
    "\n",
    "input_img = Input(shape=(310,))\n",
    "encoded = Dense(256, activation='relu')(input_img)\n",
    "encoded = Dense(128, activation='relu')(encoded)\n",
    "#encoded = Dense(64, activation='relu')(encoded)\n",
    "\n",
    "#decoded = Dense(128, activation='relu')(encoded)\n",
    "decoded = Dense(256, activation='relu')(encoded)\n",
    "decoded = Dense(310, activation='sigmoid')(decoded)\n"
   ]
  },
  {
   "cell_type": "code",
   "execution_count": null,
   "metadata": {
    "colab": {
     "base_uri": "https://localhost:8080/",
     "height": 32
    },
    "colab_type": "code",
    "executionInfo": {
     "elapsed": 767,
     "status": "ok",
     "timestamp": 1594958775913,
     "user": {
      "displayName": "Prerak Patel",
      "photoUrl": "https://lh3.googleusercontent.com/a-/AOh14Gj0OT5Bmun4hsGe0jQNE1Ehbrdm_9JvsVTt9xBReA=s64",
      "userId": "01463730161288316532"
     },
     "user_tz": 240
    },
    "id": "0PXiwJm5AUEF",
    "outputId": "8ef47c0e-f0a5-431d-9f1e-216ad1a82354"
   },
   "outputs": [
    {
     "name": "stdout",
     "output_type": "stream",
     "text": [
      "time -3.719329833984375e-05\n"
     ]
    }
   ],
   "source": [
    "#compiling the autoencoder model\n",
    "autoencoder = Model(input_img, decoded)\n",
    "autoencoder.compile(optimizer='adam', loss='mse', metrics=['accuracy'])\n",
    "t1 = time.time()\n",
    "print(\"time\",t1-time.time())"
   ]
  },
  {
   "cell_type": "code",
   "execution_count": null,
   "metadata": {
    "colab": {
     "base_uri": "https://localhost:8080/",
     "height": 312
    },
    "colab_type": "code",
    "executionInfo": {
     "elapsed": 736,
     "status": "ok",
     "timestamp": 1594958779164,
     "user": {
      "displayName": "Prerak Patel",
      "photoUrl": "https://lh3.googleusercontent.com/a-/AOh14Gj0OT5Bmun4hsGe0jQNE1Ehbrdm_9JvsVTt9xBReA=s64",
      "userId": "01463730161288316532"
     },
     "user_tz": 240
    },
    "id": "viilAAecAUEL",
    "outputId": "2c12b087-001c-4aff-b671-2c97ce01f349"
   },
   "outputs": [
    {
     "name": "stdout",
     "output_type": "stream",
     "text": [
      "Model: \"model_1\"\n",
      "_________________________________________________________________\n",
      "Layer (type)                 Output Shape              Param #   \n",
      "=================================================================\n",
      "input_1 (InputLayer)         (None, 310)               0         \n",
      "_________________________________________________________________\n",
      "dense_1 (Dense)              (None, 256)               79616     \n",
      "_________________________________________________________________\n",
      "dense_2 (Dense)              (None, 128)               32896     \n",
      "_________________________________________________________________\n",
      "dense_3 (Dense)              (None, 256)               33024     \n",
      "_________________________________________________________________\n",
      "dense_4 (Dense)              (None, 310)               79670     \n",
      "=================================================================\n",
      "Total params: 225,206\n",
      "Trainable params: 225,206\n",
      "Non-trainable params: 0\n",
      "_________________________________________________________________\n"
     ]
    }
   ],
   "source": [
    "autoencoder.summary()"
   ]
  },
  {
   "cell_type": "code",
   "execution_count": null,
   "metadata": {
    "colab": {
     "base_uri": "https://localhost:8080/",
     "height": 1000
    },
    "colab_type": "code",
    "executionInfo": {
     "elapsed": 223607,
     "status": "ok",
     "timestamp": 1594959004557,
     "user": {
      "displayName": "Prerak Patel",
      "photoUrl": "https://lh3.googleusercontent.com/a-/AOh14Gj0OT5Bmun4hsGe0jQNE1Ehbrdm_9JvsVTt9xBReA=s64",
      "userId": "01463730161288316532"
     },
     "user_tz": 240
    },
    "id": "VIpmdm8AAUEO",
    "outputId": "bf7d67e9-0bcf-4d75-ed53-49f3e78fd5b4"
   },
   "outputs": [
    {
     "name": "stdout",
     "output_type": "stream",
     "text": [
      "WARNING:tensorflow:From /usr/local/lib/python3.6/dist-packages/keras/backend/tensorflow_backend.py:422: The name tf.global_variables is deprecated. Please use tf.compat.v1.global_variables instead.\n",
      "\n",
      "Epoch 1/50\n",
      "84420/84420 [==============================] - 6s 70us/step - loss: 0.0239 - accuracy: 0.2165\n",
      "Epoch 2/50\n",
      "84420/84420 [==============================] - 4s 50us/step - loss: 0.0238 - accuracy: 0.2460\n",
      "Epoch 3/50\n",
      "84420/84420 [==============================] - 4s 50us/step - loss: 0.0250 - accuracy: 0.2308\n",
      "Epoch 4/50\n",
      "84420/84420 [==============================] - 4s 51us/step - loss: 0.0235 - accuracy: 0.2428\n",
      "Epoch 5/50\n",
      "84420/84420 [==============================] - 4s 50us/step - loss: 0.0225 - accuracy: 0.2561\n",
      "Epoch 6/50\n",
      "84420/84420 [==============================] - 4s 50us/step - loss: 0.0211 - accuracy: 0.2559\n",
      "Epoch 7/50\n",
      "84420/84420 [==============================] - 4s 50us/step - loss: 0.0195 - accuracy: 0.2392\n",
      "Epoch 8/50\n",
      "84420/84420 [==============================] - 4s 49us/step - loss: 0.0190 - accuracy: 0.2432\n",
      "Epoch 9/50\n",
      "84420/84420 [==============================] - 4s 50us/step - loss: 0.0186 - accuracy: 0.2539\n",
      "Epoch 10/50\n",
      "84420/84420 [==============================] - 4s 50us/step - loss: 0.0183 - accuracy: 0.2374\n",
      "Epoch 11/50\n",
      "84420/84420 [==============================] - 4s 49us/step - loss: 0.0187 - accuracy: 0.2512\n",
      "Epoch 12/50\n",
      "84420/84420 [==============================] - 4s 50us/step - loss: 0.0183 - accuracy: 0.2630\n",
      "Epoch 13/50\n",
      "84420/84420 [==============================] - 4s 50us/step - loss: 0.0183 - accuracy: 0.2441\n",
      "Epoch 14/50\n",
      "84420/84420 [==============================] - 4s 51us/step - loss: 0.0179 - accuracy: 0.2654\n",
      "Epoch 15/50\n",
      "84420/84420 [==============================] - 4s 51us/step - loss: 0.0178 - accuracy: 0.2496\n",
      "Epoch 16/50\n",
      "84420/84420 [==============================] - 4s 51us/step - loss: 0.0176 - accuracy: 0.2395\n",
      "Epoch 17/50\n",
      "84420/84420 [==============================] - 4s 50us/step - loss: 0.0175 - accuracy: 0.2482\n",
      "Epoch 18/50\n",
      "84420/84420 [==============================] - 4s 52us/step - loss: 0.0171 - accuracy: 0.2551\n",
      "Epoch 19/50\n",
      "84420/84420 [==============================] - 4s 50us/step - loss: 0.0171 - accuracy: 0.2566\n",
      "Epoch 20/50\n",
      "84420/84420 [==============================] - 4s 50us/step - loss: 0.0172 - accuracy: 0.2387\n",
      "Epoch 21/50\n",
      "84420/84420 [==============================] - 4s 50us/step - loss: 0.0169 - accuracy: 0.2499\n",
      "Epoch 22/50\n",
      "84420/84420 [==============================] - 4s 51us/step - loss: 0.0168 - accuracy: 0.2611\n",
      "Epoch 23/50\n",
      "84420/84420 [==============================] - 4s 50us/step - loss: 0.0168 - accuracy: 0.2621\n",
      "Epoch 24/50\n",
      "84420/84420 [==============================] - 4s 51us/step - loss: 0.0169 - accuracy: 0.2580\n",
      "Epoch 25/50\n",
      "84420/84420 [==============================] - 4s 51us/step - loss: 0.0170 - accuracy: 0.2463\n",
      "Epoch 26/50\n",
      "84420/84420 [==============================] - 4s 51us/step - loss: 0.0169 - accuracy: 0.2374\n",
      "Epoch 27/50\n",
      "84420/84420 [==============================] - 4s 52us/step - loss: 0.0168 - accuracy: 0.2529\n",
      "Epoch 28/50\n",
      "84420/84420 [==============================] - 4s 50us/step - loss: 0.0168 - accuracy: 0.2512\n",
      "Epoch 29/50\n",
      "84420/84420 [==============================] - 4s 50us/step - loss: 0.0167 - accuracy: 0.2338\n",
      "Epoch 30/50\n",
      "84420/84420 [==============================] - 4s 49us/step - loss: 0.0168 - accuracy: 0.2507\n",
      "Epoch 31/50\n",
      "84420/84420 [==============================] - 4s 50us/step - loss: 0.0168 - accuracy: 0.2442\n",
      "Epoch 32/50\n",
      "84420/84420 [==============================] - 4s 52us/step - loss: 0.0167 - accuracy: 0.2548\n",
      "Epoch 33/50\n",
      "84420/84420 [==============================] - 4s 50us/step - loss: 0.0167 - accuracy: 0.2481\n",
      "Epoch 34/50\n",
      "84420/84420 [==============================] - 4s 50us/step - loss: 0.0167 - accuracy: 0.2406\n",
      "Epoch 35/50\n",
      "84420/84420 [==============================] - 4s 49us/step - loss: 0.0166 - accuracy: 0.2528\n",
      "Epoch 36/50\n",
      "84420/84420 [==============================] - 4s 50us/step - loss: 0.0165 - accuracy: 0.2519\n",
      "Epoch 37/50\n",
      "84420/84420 [==============================] - 4s 50us/step - loss: 0.0164 - accuracy: 0.2520\n",
      "Epoch 38/50\n",
      "84420/84420 [==============================] - 4s 50us/step - loss: 0.0162 - accuracy: 0.2534\n",
      "Epoch 39/50\n",
      "84420/84420 [==============================] - 4s 50us/step - loss: 0.0160 - accuracy: 0.2521\n",
      "Epoch 40/50\n",
      "84420/84420 [==============================] - 4s 50us/step - loss: 0.0159 - accuracy: 0.2539\n",
      "Epoch 41/50\n",
      "84420/84420 [==============================] - 4s 49us/step - loss: 0.0158 - accuracy: 0.2569\n",
      "Epoch 42/50\n",
      "84420/84420 [==============================] - 4s 50us/step - loss: 0.0157 - accuracy: 0.2586\n",
      "Epoch 43/50\n",
      "84420/84420 [==============================] - 4s 50us/step - loss: 0.0156 - accuracy: 0.2607\n",
      "Epoch 44/50\n",
      "84420/84420 [==============================] - 4s 49us/step - loss: 0.0155 - accuracy: 0.2615\n",
      "Epoch 45/50\n",
      "84420/84420 [==============================] - 4s 51us/step - loss: 0.0154 - accuracy: 0.2598\n",
      "Epoch 46/50\n",
      "84420/84420 [==============================] - 4s 51us/step - loss: 0.0153 - accuracy: 0.2581\n",
      "Epoch 47/50\n",
      "84420/84420 [==============================] - 4s 50us/step - loss: 0.0153 - accuracy: 0.2564\n",
      "Epoch 48/50\n",
      "84420/84420 [==============================] - 4s 50us/step - loss: 0.0153 - accuracy: 0.2556\n",
      "Epoch 49/50\n",
      "84420/84420 [==============================] - 4s 50us/step - loss: 0.0153 - accuracy: 0.2558\n",
      "Epoch 50/50\n",
      "84420/84420 [==============================] - 4s 50us/step - loss: 0.0153 - accuracy: 0.2589\n",
      "time -5.316734313964844e-05\n"
     ]
    }
   ],
   "source": [
    "autoencoder.fit(train_X, train_X,\n",
    "                epochs=50,\n",
    "                batch_size=64,\n",
    "                shuffle=False)\n",
    "t1 = time.time()\n",
    "print(\"time\",t1-time.time())"
   ]
  },
  {
   "cell_type": "code",
   "execution_count": null,
   "metadata": {
    "colab": {},
    "colab_type": "code",
    "id": "7J2Xu6FAAUER"
   },
   "outputs": [],
   "source": [
    "#predicting the train data from autoencoder\n",
    "predicted_train = autoencoder.predict(train_X)"
   ]
  },
  {
   "cell_type": "code",
   "execution_count": null,
   "metadata": {
    "colab": {
     "base_uri": "https://localhost:8080/",
     "height": 32
    },
    "colab_type": "code",
    "executionInfo": {
     "elapsed": 223466,
     "status": "ok",
     "timestamp": 1594959006742,
     "user": {
      "displayName": "Prerak Patel",
      "photoUrl": "https://lh3.googleusercontent.com/a-/AOh14Gj0OT5Bmun4hsGe0jQNE1Ehbrdm_9JvsVTt9xBReA=s64",
      "userId": "01463730161288316532"
     },
     "user_tz": 240
    },
    "id": "C4ntZxHwAUEU",
    "outputId": "de92f418-bd05-44b9-d224-cbcbf4709abe"
   },
   "outputs": [
    {
     "data": {
      "text/plain": [
       "(84420, 310)"
      ]
     },
     "execution_count": 16,
     "metadata": {
      "tags": []
     },
     "output_type": "execute_result"
    }
   ],
   "source": [
    "#shape of predicted data\n",
    "predicted_train.shape"
   ]
  },
  {
   "cell_type": "code",
   "execution_count": null,
   "metadata": {
    "colab": {},
    "colab_type": "code",
    "id": "odeNKGkjAUEX"
   },
   "outputs": [],
   "source": []
  },
  {
   "cell_type": "code",
   "execution_count": null,
   "metadata": {
    "colab": {},
    "colab_type": "code",
    "id": "hLVlBHfLAUEZ"
   },
   "outputs": [],
   "source": [
    "#Combining the orginal data and autoencoder output\n",
    "X_train = np.concatenate((train_X,predicted_train),axis=0)\n",
    "Y_train = np.concatenate((y_train,y_train),axis=0)"
   ]
  },
  {
   "cell_type": "code",
   "execution_count": null,
   "metadata": {
    "colab": {
     "base_uri": "https://localhost:8080/",
     "height": 32
    },
    "colab_type": "code",
    "executionInfo": {
     "elapsed": 220287,
     "status": "ok",
     "timestamp": 1594959006743,
     "user": {
      "displayName": "Prerak Patel",
      "photoUrl": "https://lh3.googleusercontent.com/a-/AOh14Gj0OT5Bmun4hsGe0jQNE1Ehbrdm_9JvsVTt9xBReA=s64",
      "userId": "01463730161288316532"
     },
     "user_tz": 240
    },
    "id": "rZOVv76nAUEc",
    "outputId": "1a3a42b2-d619-4f6c-df4e-8560715e5e38"
   },
   "outputs": [
    {
     "data": {
      "text/plain": [
       "(168840, 310)"
      ]
     },
     "execution_count": 18,
     "metadata": {
      "tags": []
     },
     "output_type": "execute_result"
    }
   ],
   "source": [
    "#checking the shape\n",
    "X_train.shape"
   ]
  },
  {
   "cell_type": "code",
   "execution_count": null,
   "metadata": {
    "colab": {},
    "colab_type": "code",
    "id": "8ieS1xAwAUEf"
   },
   "outputs": [],
   "source": [
    "#Reshaping the new train data to pass the combined model\n",
    "X_train = X_train.reshape(X_train.shape[0],X_train.shape[1],1)"
   ]
  },
  {
   "cell_type": "code",
   "execution_count": null,
   "metadata": {
    "colab": {
     "base_uri": "https://localhost:8080/",
     "height": 32
    },
    "colab_type": "code",
    "executionInfo": {
     "elapsed": 219243,
     "status": "ok",
     "timestamp": 1594959006744,
     "user": {
      "displayName": "Prerak Patel",
      "photoUrl": "https://lh3.googleusercontent.com/a-/AOh14Gj0OT5Bmun4hsGe0jQNE1Ehbrdm_9JvsVTt9xBReA=s64",
      "userId": "01463730161288316532"
     },
     "user_tz": 240
    },
    "id": "Paown9dwAUEi",
    "outputId": "8bab7d75-3bc2-4c0f-9556-9365180df1f5"
   },
   "outputs": [
    {
     "data": {
      "text/plain": [
       "(168840, 3)"
      ]
     },
     "execution_count": 20,
     "metadata": {
      "tags": []
     },
     "output_type": "execute_result"
    }
   ],
   "source": [
    "#shape of new Y-train data\n",
    "Y_train.shape"
   ]
  },
  {
   "cell_type": "code",
   "execution_count": null,
   "metadata": {
    "colab": {},
    "colab_type": "code",
    "id": "mDqYR12eAUEl"
   },
   "outputs": [],
   "source": [
    "#creating a model\n",
    "visible = Input(shape=(310,1))"
   ]
  },
  {
   "cell_type": "code",
   "execution_count": null,
   "metadata": {
    "colab": {
     "base_uri": "https://localhost:8080/",
     "height": 69
    },
    "colab_type": "code",
    "executionInfo": {
     "elapsed": 218241,
     "status": "ok",
     "timestamp": 1594959006745,
     "user": {
      "displayName": "Prerak Patel",
      "photoUrl": "https://lh3.googleusercontent.com/a-/AOh14Gj0OT5Bmun4hsGe0jQNE1Ehbrdm_9JvsVTt9xBReA=s64",
      "userId": "01463730161288316532"
     },
     "user_tz": 240
    },
    "id": "T9QMNDwWm4U6",
    "outputId": "d190ed8a-0de2-4c05-c913-c373b044c448"
   },
   "outputs": [
    {
     "name": "stdout",
     "output_type": "stream",
     "text": [
      "WARNING:tensorflow:From /usr/local/lib/python3.6/dist-packages/keras/backend/tensorflow_backend.py:4070: The name tf.nn.max_pool is deprecated. Please use tf.nn.max_pool2d instead.\n",
      "\n"
     ]
    }
   ],
   "source": [
    "#creating the first model \n",
    "model1 = GaussianNoise(0.05)(visible)\n",
    "model1 = Conv1D(filters=64, kernel_size=2, activation='relu')(model1)\n",
    "model1 = MaxPooling1D(pool_size=1)(model1)\n",
    "model1 = Dropout(0.5)(model1)\n",
    "model1 = Conv1D(filters=128, kernel_size=3, activation='relu')(model1)\n",
    "model1 = MaxPooling1D(pool_size=1)(model1)\n",
    "model1 = Dropout(0.5)(model1)\n",
    "model1 = Conv1D(filters=256, kernel_size=3, activation='relu')(model1)\n",
    "model1 = MaxPooling1D(pool_size=1)(model1)\n",
    "model1 = Dropout(0.5)(model1)\n",
    "model1 = Flatten()(model1)\n",
    "\n"
   ]
  },
  {
   "cell_type": "code",
   "execution_count": null,
   "metadata": {
    "colab": {},
    "colab_type": "code",
    "id": "yNG96tr4AUEs"
   },
   "outputs": [],
   "source": [
    "#Creating second model\n",
    "model2 = GaussianNoise(0.05)(visible)\n",
    "model2 = Conv1D(64, 2, padding='same')(model2)\n",
    "model2 = LeakyReLU(alpha=0.05)(model2)\n",
    "model2 = LSTM(64, return_sequences=True)(model2)\n",
    "model2 = LeakyReLU(alpha=0.05)(model2)\n",
    "model2 = MaxPooling1D(1)(model2)\n",
    "model2 = Conv1D(128, 3, padding='same')(model2)\n",
    "model2 = LeakyReLU(alpha=0.05)(model2)\n",
    "model2 = LSTM(128, return_sequences=True)(model2)\n",
    "model2 = LeakyReLU(alpha=0.05)(model2)\n",
    "model2 = MaxPooling1D(1)(model2)\n",
    "model2 = Conv1D(256, 3, padding='same')(model2)\n",
    "model2 = LeakyReLU(alpha=0.05)(model2)\n",
    "model2 = LSTM(256)(model2)\n",
    "model2 = LeakyReLU(alpha=0.05)(model2)"
   ]
  },
  {
   "cell_type": "code",
   "execution_count": null,
   "metadata": {
    "colab": {},
    "colab_type": "code",
    "id": "GKASibs-AUEu"
   },
   "outputs": [],
   "source": [
    "#combining the model\n",
    "merge = concatenate([model1,model2])"
   ]
  },
  {
   "cell_type": "code",
   "execution_count": null,
   "metadata": {
    "colab": {},
    "colab_type": "code",
    "id": "guPco7b7AUEw"
   },
   "outputs": [],
   "source": [
    "hidden1 = Dense(400, activation='relu')(merge)\n",
    "drop1 = Dropout(0.5)(hidden1)\n",
    "hidden2 = Dense(150, activation='relu')(drop1)\n",
    "drop2 = Dropout(0.5)(hidden2)\n",
    "output = Dense(3, activation='softmax')(hidden2)\n",
    "combined_model = Model(inputs=visible, outputs=output)"
   ]
  },
  {
   "cell_type": "code",
   "execution_count": null,
   "metadata": {
    "colab": {
     "base_uri": "https://localhost:8080/",
     "height": 1000
    },
    "colab_type": "code",
    "executionInfo": {
     "elapsed": 926,
     "status": "ok",
     "timestamp": 1594959008910,
     "user": {
      "displayName": "Prerak Patel",
      "photoUrl": "https://lh3.googleusercontent.com/a-/AOh14Gj0OT5Bmun4hsGe0jQNE1Ehbrdm_9JvsVTt9xBReA=s64",
      "userId": "01463730161288316532"
     },
     "user_tz": 240
    },
    "id": "JUUgX8nuAUEy",
    "outputId": "d2cb30ce-e150-469e-eebf-ec76aaea8e6b"
   },
   "outputs": [
    {
     "name": "stdout",
     "output_type": "stream",
     "text": [
      "Model: \"model_2\"\n",
      "__________________________________________________________________________________________________\n",
      "Layer (type)                    Output Shape         Param #     Connected to                     \n",
      "==================================================================================================\n",
      "input_2 (InputLayer)            (None, 310, 1)       0                                            \n",
      "__________________________________________________________________________________________________\n",
      "gaussian_noise_2 (GaussianNoise (None, 310, 1)       0           input_2[0][0]                    \n",
      "__________________________________________________________________________________________________\n",
      "conv1d_4 (Conv1D)               (None, 310, 64)      192         gaussian_noise_2[0][0]           \n",
      "__________________________________________________________________________________________________\n",
      "leaky_re_lu_1 (LeakyReLU)       (None, 310, 64)      0           conv1d_4[0][0]                   \n",
      "__________________________________________________________________________________________________\n",
      "lstm_1 (LSTM)                   (None, 310, 64)      33024       leaky_re_lu_1[0][0]              \n",
      "__________________________________________________________________________________________________\n",
      "gaussian_noise_1 (GaussianNoise (None, 310, 1)       0           input_2[0][0]                    \n",
      "__________________________________________________________________________________________________\n",
      "leaky_re_lu_2 (LeakyReLU)       (None, 310, 64)      0           lstm_1[0][0]                     \n",
      "__________________________________________________________________________________________________\n",
      "conv1d_1 (Conv1D)               (None, 309, 64)      192         gaussian_noise_1[0][0]           \n",
      "__________________________________________________________________________________________________\n",
      "max_pooling1d_4 (MaxPooling1D)  (None, 310, 64)      0           leaky_re_lu_2[0][0]              \n",
      "__________________________________________________________________________________________________\n",
      "max_pooling1d_1 (MaxPooling1D)  (None, 309, 64)      0           conv1d_1[0][0]                   \n",
      "__________________________________________________________________________________________________\n",
      "conv1d_5 (Conv1D)               (None, 310, 128)     24704       max_pooling1d_4[0][0]            \n",
      "__________________________________________________________________________________________________\n",
      "dropout_1 (Dropout)             (None, 309, 64)      0           max_pooling1d_1[0][0]            \n",
      "__________________________________________________________________________________________________\n",
      "leaky_re_lu_3 (LeakyReLU)       (None, 310, 128)     0           conv1d_5[0][0]                   \n",
      "__________________________________________________________________________________________________\n",
      "conv1d_2 (Conv1D)               (None, 307, 128)     24704       dropout_1[0][0]                  \n",
      "__________________________________________________________________________________________________\n",
      "lstm_2 (LSTM)                   (None, 310, 128)     131584      leaky_re_lu_3[0][0]              \n",
      "__________________________________________________________________________________________________\n",
      "max_pooling1d_2 (MaxPooling1D)  (None, 307, 128)     0           conv1d_2[0][0]                   \n",
      "__________________________________________________________________________________________________\n",
      "leaky_re_lu_4 (LeakyReLU)       (None, 310, 128)     0           lstm_2[0][0]                     \n",
      "__________________________________________________________________________________________________\n",
      "dropout_2 (Dropout)             (None, 307, 128)     0           max_pooling1d_2[0][0]            \n",
      "__________________________________________________________________________________________________\n",
      "max_pooling1d_5 (MaxPooling1D)  (None, 310, 128)     0           leaky_re_lu_4[0][0]              \n",
      "__________________________________________________________________________________________________\n",
      "conv1d_3 (Conv1D)               (None, 305, 256)     98560       dropout_2[0][0]                  \n",
      "__________________________________________________________________________________________________\n",
      "conv1d_6 (Conv1D)               (None, 310, 256)     98560       max_pooling1d_5[0][0]            \n",
      "__________________________________________________________________________________________________\n",
      "max_pooling1d_3 (MaxPooling1D)  (None, 305, 256)     0           conv1d_3[0][0]                   \n",
      "__________________________________________________________________________________________________\n",
      "leaky_re_lu_5 (LeakyReLU)       (None, 310, 256)     0           conv1d_6[0][0]                   \n",
      "__________________________________________________________________________________________________\n",
      "dropout_3 (Dropout)             (None, 305, 256)     0           max_pooling1d_3[0][0]            \n",
      "__________________________________________________________________________________________________\n",
      "lstm_3 (LSTM)                   (None, 256)          525312      leaky_re_lu_5[0][0]              \n",
      "__________________________________________________________________________________________________\n",
      "flatten_1 (Flatten)             (None, 78080)        0           dropout_3[0][0]                  \n",
      "__________________________________________________________________________________________________\n",
      "leaky_re_lu_6 (LeakyReLU)       (None, 256)          0           lstm_3[0][0]                     \n",
      "__________________________________________________________________________________________________\n",
      "concatenate_1 (Concatenate)     (None, 78336)        0           flatten_1[0][0]                  \n",
      "                                                                 leaky_re_lu_6[0][0]              \n",
      "__________________________________________________________________________________________________\n",
      "dense_5 (Dense)                 (None, 400)          31334800    concatenate_1[0][0]              \n",
      "__________________________________________________________________________________________________\n",
      "dropout_4 (Dropout)             (None, 400)          0           dense_5[0][0]                    \n",
      "__________________________________________________________________________________________________\n",
      "dense_6 (Dense)                 (None, 150)          60150       dropout_4[0][0]                  \n",
      "__________________________________________________________________________________________________\n",
      "dense_7 (Dense)                 (None, 3)            453         dense_6[0][0]                    \n",
      "==================================================================================================\n",
      "Total params: 32,332,235\n",
      "Trainable params: 32,332,235\n",
      "Non-trainable params: 0\n",
      "__________________________________________________________________________________________________\n"
     ]
    }
   ],
   "source": [
    "combined_model.summary()"
   ]
  },
  {
   "cell_type": "code",
   "execution_count": null,
   "metadata": {
    "colab": {},
    "colab_type": "code",
    "id": "p-jN_6X1AUE1"
   },
   "outputs": [],
   "source": [
    "#compiling the model\n",
    "combined_model.compile(optimizer='adam', loss='categorical_crossentropy', metrics=['accuracy'])"
   ]
  },
  {
   "cell_type": "code",
   "execution_count": null,
   "metadata": {
    "colab": {},
    "colab_type": "code",
    "id": "-TON-ifkAUE2"
   },
   "outputs": [],
   "source": []
  },
  {
   "cell_type": "code",
   "execution_count": null,
   "metadata": {
    "colab": {
     "base_uri": "https://localhost:8080/",
     "height": 102
    },
    "colab_type": "code",
    "id": "-J_A3bx6AUE5",
    "outputId": "8a73919b-7ba8-4595-c673-6a834c08d915"
   },
   "outputs": [
    {
     "name": "stdout",
     "output_type": "stream",
     "text": [
      "time -4.291534423828125e-05\n",
      "Train on 168840 samples, validate on 58128 samples\n",
      "Epoch 1/10\n",
      " 73600/168840 [============>.................] - ETA: 10:48 - loss: 0.9635 - accuracy: 0.4830"
     ]
    }
   ],
   "source": [
    "t = time.time()\n",
    "print(\"time\",t-time.time())\n",
    "time_callback = TimeHistory()\n",
    "history = combined_model.fit(X_train,Y_train,epochs=10,shuffle=True,validation_data=(x_test,y_test),batch_size=128,callbacks=[time_callback])\n",
    "t = time.time()\n",
    "print(\"time\",t-time.time())"
   ]
  },
  {
   "cell_type": "code",
   "execution_count": null,
   "metadata": {
    "colab": {},
    "colab_type": "code",
    "id": "1LDHeQqNAUE7"
   },
   "outputs": [],
   "source": [
    "#total computing time for every epoch\n",
    "times = time_callback.times"
   ]
  },
  {
   "cell_type": "code",
   "execution_count": null,
   "metadata": {
    "colab": {},
    "colab_type": "code",
    "id": "hPekx9URAUE9"
   },
   "outputs": [],
   "source": [
    "print(\"computing time in every epoch\",times)"
   ]
  },
  {
   "cell_type": "code",
   "execution_count": null,
   "metadata": {
    "colab": {},
    "colab_type": "code",
    "id": "sgzqEa0Fm4VG"
   },
   "outputs": [],
   "source": [
    "#evaluating the model\n",
    "combined_model.evaluate(x_test,y_test,batch_size=128,verbose=1)"
   ]
  },
  {
   "cell_type": "code",
   "execution_count": null,
   "metadata": {
    "colab": {},
    "colab_type": "code",
    "id": "37KpmZXCm4VP"
   },
   "outputs": [],
   "source": [
    "#saving the model\n",
    "combined_model.save('/content/drive/My Drive/Colab Notebooks/DL_combined_model.h5')"
   ]
  },
  {
   "cell_type": "code",
   "execution_count": null,
   "metadata": {
    "colab": {},
    "colab_type": "code",
    "id": "ZVHy_3vDm4Vb"
   },
   "outputs": [],
   "source": [
    "#graph\n",
    "import matplotlib.pyplot as plt\n",
    "plt.plot(history.history['acc'])\n",
    "plt.plot(history.history['val_acc'])\n",
    "plt.title('Model accuracy')\n",
    "plt.ylabel('Accuracy')\n",
    "plt.xlabel('Epoch')\n",
    "plt.legend(['Train', 'Test'], loc='upper left')\n",
    "plt.show()"
   ]
  },
  {
   "cell_type": "code",
   "execution_count": null,
   "metadata": {
    "colab": {},
    "colab_type": "code",
    "id": "VAV1f5X_m4Vt"
   },
   "outputs": [],
   "source": [
    "plt.plot(history.history['loss'])\n",
    "plt.plot(history.history['val_loss'])\n",
    "plt.title('Model loss')\n",
    "plt.ylabel('Loss')\n",
    "plt.xlabel('Epoch')\n",
    "plt.legend(['Train', 'Test'], loc='upper left')\n",
    "plt.show()"
   ]
  },
  {
   "cell_type": "code",
   "execution_count": null,
   "metadata": {
    "colab": {},
    "colab_type": "code",
    "id": "GVvMbRIx8_FM"
   },
   "outputs": [],
   "source": []
  }
 ],
 "metadata": {
  "accelerator": "GPU",
  "colab": {
   "collapsed_sections": [],
   "name": "EEG_Tanvir_Vidhi.ipynb",
   "provenance": []
  },
  "kernelspec": {
   "display_name": "Python 3",
   "language": "python",
   "name": "python3"
  },
  "language_info": {
   "codemirror_mode": {
    "name": "ipython",
    "version": 3
   },
   "file_extension": ".py",
   "mimetype": "text/x-python",
   "name": "python",
   "nbconvert_exporter": "python",
   "pygments_lexer": "ipython3",
   "version": "3.7.6"
  }
 },
 "nbformat": 4,
 "nbformat_minor": 1
}
